{
 "cells": [
  {
   "cell_type": "code",
   "execution_count": 2,
   "id": "df1a9aed-75bd-4527-8131-3e0591d72d94",
   "metadata": {},
   "outputs": [],
   "source": [
    "\n",
    "project_dir = '/home/felixl/PycharmProjects/cell_wall'\n",
    "luca_profile = f'{project_dir}/milestones/phyloprofile/cell_wall.phyloprofile'\n",
    "\n",
    "\n",
    "outpath = '../data/eukaryots_cell_wall.phyloprofile'"
   ]
  },
  {
   "cell_type": "markdown",
   "id": "eecf1685-a69c-458a-a0bf-fcf3a77c4f53",
   "metadata": {},
   "source": [
    "## Find all ncbi taxonomy IDs"
   ]
  },
  {
   "cell_type": "code",
   "execution_count": 3,
   "id": "acafd09f-230f-48aa-8b3a-3974c1d513a0",
   "metadata": {},
   "outputs": [],
   "source": [
    "taxids = set()\n",
    "with open(luca_profile) as fh:\n",
    "    header = next(fh)\n",
    "    for line in fh:\n",
    "        taxid = int(line.split()[1].replace('ncbi', ''))\n",
    "        taxids.add(taxid)"
   ]
  },
  {
   "cell_type": "markdown",
   "id": "ec221142-0429-4a8d-b25a-3ae845d25e21",
   "metadata": {},
   "source": [
    "## Check which IDs are eukaryotic"
   ]
  },
  {
   "cell_type": "code",
   "execution_count": 4,
   "id": "ab3021a9-9215-44d9-9ff1-401ce3adeb98",
   "metadata": {},
   "outputs": [
    {
     "name": "stderr",
     "output_type": "stream",
     "text": [
      "/home/felixl/mambaforge/envs/DA/lib/python3.11/site-packages/ete3-3.1.3-py3.10.egg/ete3/ncbi_taxonomy/ncbiquery.py:243: UserWarning: taxid 1183401 was translated into 358\n",
      "/home/felixl/mambaforge/envs/DA/lib/python3.11/site-packages/ete3-3.1.3-py3.10.egg/ete3/ncbi_taxonomy/ncbiquery.py:243: UserWarning: taxid 300020 was translated into 33918\n",
      "/home/felixl/mambaforge/envs/DA/lib/python3.11/site-packages/ete3-3.1.3-py3.10.egg/ete3/ncbi_taxonomy/ncbiquery.py:243: UserWarning: taxid 1218089 was translated into 1169286\n",
      "/home/felixl/mambaforge/envs/DA/lib/python3.11/site-packages/ete3-3.1.3-py3.10.egg/ete3/ncbi_taxonomy/ncbiquery.py:243: UserWarning: taxid 76884 was translated into 162393\n",
      "/home/felixl/mambaforge/envs/DA/lib/python3.11/site-packages/ete3-3.1.3-py3.10.egg/ete3/ncbi_taxonomy/ncbiquery.py:243: UserWarning: taxid 575195 was translated into 43776\n",
      "/home/felixl/mambaforge/envs/DA/lib/python3.11/site-packages/ete3-3.1.3-py3.10.egg/ete3/ncbi_taxonomy/ncbiquery.py:243: UserWarning: taxid 88075 was translated into 88074\n",
      "/home/felixl/mambaforge/envs/DA/lib/python3.11/site-packages/ete3-3.1.3-py3.10.egg/ete3/ncbi_taxonomy/ncbiquery.py:243: UserWarning: taxid 550448 was translated into 630514\n",
      "/home/felixl/mambaforge/envs/DA/lib/python3.11/site-packages/ete3-3.1.3-py3.10.egg/ete3/ncbi_taxonomy/ncbiquery.py:243: UserWarning: taxid 92835 was translated into 69369\n",
      "/home/felixl/mambaforge/envs/DA/lib/python3.11/site-packages/ete3-3.1.3-py3.10.egg/ete3/ncbi_taxonomy/ncbiquery.py:243: UserWarning: taxid 1765963 was translated into 1309411\n"
     ]
    }
   ],
   "source": [
    "from ete3 import NCBITaxa\n",
    "\n",
    "\n",
    "def find_lineage_taxa(taxids, lineage):\n",
    "    ncbi = NCBITaxa()\n",
    "    lineage_id = list(ncbi.get_name_translator([lineage]).values())[0][0]\n",
    "\n",
    "    in_lineage = set()\n",
    "    for taxid in taxids:\n",
    "        lineage = ncbi.get_lineage(taxid)\n",
    "        if lineage_id in lineage:\n",
    "            in_lineage.add(f'ncbi{taxid}')\n",
    "    return in_lineage\n",
    "\n",
    "eukaryote_ids = find_lineage_taxa(taxids, \"Eukaryota\")"
   ]
  },
  {
   "cell_type": "markdown",
   "id": "2eab050a-a63f-4792-9b73-e32bed0c33b2",
   "metadata": {},
   "source": [
    "## Filter profile"
   ]
  },
  {
   "cell_type": "code",
   "execution_count": 5,
   "id": "ea7d01a2-ca83-471d-a2f5-b72cbc248978",
   "metadata": {},
   "outputs": [],
   "source": [
    "def filter_profile(path, outpath, taxids):\n",
    "    with open(path) as fh:\n",
    "        header = next(fh)\n",
    "        profile_col = [header]\n",
    "        for line in fh:\n",
    "            if line.split()[1] in taxids:\n",
    "                profile_col.append(line)\n",
    "    \n",
    "    with open(outpath, 'w') as of:\n",
    "        for line in profile_col:\n",
    "            of.write(line)\n",
    "\n",
    "\n",
    "filter_profile(luca_profile, outpath, eukaryote_ids)"
   ]
  },
  {
   "cell_type": "code",
   "execution_count": null,
   "id": "1e6a2b78-413a-4685-8bd5-c7e3ff737092",
   "metadata": {},
   "outputs": [],
   "source": []
  }
 ],
 "metadata": {
  "kernelspec": {
   "display_name": "Python 3 (ipykernel)",
   "language": "python",
   "name": "python3"
  },
  "language_info": {
   "codemirror_mode": {
    "name": "ipython",
    "version": 3
   },
   "file_extension": ".py",
   "mimetype": "text/x-python",
   "name": "python",
   "nbconvert_exporter": "python",
   "pygments_lexer": "ipython3",
   "version": "3.11.4"
  }
 },
 "nbformat": 4,
 "nbformat_minor": 5
}
